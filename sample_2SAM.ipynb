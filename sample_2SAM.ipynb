class InputData:
    def __init__(self):
        self.typedict = {}
        self.inputlist = []
        self.indexdict = {}        

    def addtype(self, key, datatypes):
        self.typedict[key] = datatypes.split()

    def deltype(self, key):
        self.typedict.pop(key, None)

    def types(self):
        return self.typedict

    def printtypes(self):
        for i in self.typedict.items():
            print(i)

    def add(self, i, typename, values,ENVStack):
        # a.database.add("i4","performance",[("i5","data","40"),("i6","character","XiaoXichu")],a.ENVStack)
        if i in self.indexdict.keys():
            print("outter index existed")
            return
        if typename not in self.typedict.keys():
            print("outter type doesn't exist")
            return
        for x in values:
            if len(x) != 3:
                print("Invalid syntax")
                return
            if x[0] in self.indexdict.keys():
                print("inner index existed")
                return
            if x[1] not in self.typedict[typename]:
                print("inner type doesn't exist")
                return
            self.indexdict[x[0]] = x
        self.inputlist.append((i, typename, values))
        self.indexdict[i] = (i, typename, values)
        ENVStack.push(i)
        return

    def inputs(self):
        return self.inputlist

    def printinputs(self):
        for i in self.inputlist:
            print(i)

    def indexs(self):
        return self.indexdict

    def listindex(self):
        for i in self.indexdict.values():
            print(i)

class Stack:
    def __init__(self,size=20):
        self.items = [None] * size
        self.numItems = 0
        self.size = size

    def top(self):
        if self.numItems != 0:
            return self.items[self.numItems-1]
        raise Error("Stack is empty")

    def push(self,item):
        if self.numItems == self.size:
            self.allocate()
        self.items[self.numItems] = item
        self.numItems += 1

    def allocate(self):
        newlength = 2 * self.size
        newStack = [None] * newlength
        for i in range(self.numItems):
            newStack[i] = self.items[i]
        self.items = newStack
        self.size = newlength

    def pop(self):
        if self.numItems == self.size / 4:
            self.deallocate()
        if self.numItems != 0:
            topelement = self.items[self.numItems-1]
            self.numItems -= 1
            return topelement
        raise Error("Stack is empty")

    def deallocate(self):
            newlength = self.size // 2
            newStack = [None] * newlength
            for i in range(self.numItems):
                newStack[i] = self.items[i]
            self.items = newStack
            self.size = newlength

    def isEmpty(self):
        if self.numItems != 0:
            return False
        return True

    def showData(self):
        itemList = []
        i = 0
        while(i<self.numItems):
                print(self.items[i])
                i+=1
        print("-----")
        return 

def Count(tarList):
    return len(tarList)

def Sum(sorList):
    total = 0
    for i in sorList:
        total+= float(i)
    return total

def Min(sorList):
    minValue = float(sorList[0])
    for i in sorList:
        if float(i)<minValue:
            minValue = float(i)
    return minValue

def Max(sorList):
    maxValue = float(sorList[0])
    for i in sorList:
        if float(i)>maxValue:
            maxValue = float(i)
    return maxValue

def Average(sorList):
    total = 0
    for i in sorList:
        total+= float(i)
    return total/len(sorList)

def Distinct(sorList):
    resultList = []
    for i in sorList:
        if not(i in resultList):
            resultList.append(i)
    return resultList

def Derefering(sorList,data):
    resultList = []
    for database in data:
        items = database[2]
        for item in items:
            if (item[0] in sorList):
                resultList.append(item[2])
    return resultList


def Where(tarList,boolList):
    resultList = []
    for i in range(len(boolList)):
        if(boolList[i]!=None):
            if(boolList[i]):
                resultList.append(tarList[i])
    return resultList

def Descartes(sor1,sor2):
    if (type(sor1)==list):
        resultList = []
        if(type(sor2)==list):
            for i in sor1:
                for j in sor2:
                    resultList.append((i,j))
        else:
            for i in sor1:
                resultList.append((i,sor2))
        return resultList
    else:
        if(type(sor2)==list):
            resultList = []
            for i in sor2:
                resultList.append((sor1,i))
            return resultList
        else:
            return (sor1,sor2)


def Not(sor):
    if(type(sor)==list):
        resultList = []
        for i in sor:
            if(i!=None):
                resultList.append(not i)
            else:
                resultList.append(None)
        return resultList
    else:
        return not sor

def Exists(sorList,tar):
    return (tar in sorList)

def In(tar,sorList):
    return (tar in sorList)

def Contains(sorList,tar):
    return (tar in sorList)

def Or(sor1,sor2):
    if(type(sor1)==list):
        resultList = []
        if(type(sor2)==list):
            for i in range(len(sor1)):
                resultList.append(sor1[i] or sor2[i])
        else:
            for i in range(len(sor1)):
                if(sor1[i]!=None):
                    resultList.append(sor1[i] or sor2)
                else:
                    resultList.append(None)
        return resultList
    else:
        if(type(sor2)==list):
            resultList = []
            for i in sor2:
                if(i!=None):
                    resultList.append(sor1 or i)
                else:
                    resultList.append(None)
            return resultList
        else:
            return sor1 or sor2

def And(sor1,sor2):
    if(type(sor1)==list):
        resultList = []
        if(type(sor2)==list):
            for i in range(len(sor1)):
                resultList.append(sor1[i] and sor2[i])
        else:
            for i in range(len(sor1)):
                if(sor1[i]!=None):
                    resultList.append(sor1[i] and sor2)
                else:
                    resultList.append(None)
        return resultList
    else:
        if(type(sor2)==list):
            resultList = []
            for i in sor2:
                if(i!=None):
                    resultList.append(sor1 and i)
                else:
                    resultList.append(None)
            return resultList
        else:
            return sor1 and sor2

def Divide(sor1,sor2):
    if(type(sor1)==list):
        resultList = []
        if(type(sor2)==list):
            for i in range(len(sor1)):
                resultList.append(str(float(sor1[i])/float(sor2[i])))
        else:
            for i in range(len(sor1)):
                if(sor1[i]!=None):
                    resultList.append(str(float(sor1[i])/float(sor2)))
                else:
                    resultList.append(None)
        return resultList
    else:
        if(type(sor2)==list):
            resultList = []
            for i in sor2:
                if(i!=None):
                    resultList.append(str(float(sor1)/float(i)))
                else:
                    resultList.append(None)
            return resultList
        else:
            return str(float(sor1)/float(sor2))

def Times(sor1,sor2):
    if(type(sor1)==list):
        resultList = []
        if(type(sor2)==list):
            for i in range(len(sor1)):
                resultList.append(str(float(sor1[i])*float(sor2[i])))
        else:
            for i in range(len(sor1)):
                if(sor1[i]!=None):
                    resultList.append(str(float(sor1[i])*float(sor2)))
                else:
                    resultList.append(None)
        return resultList
    else:
        if(type(sor2)==list):
            resultList = []
            for i in sor2:
                if(i!=None):
                    resultList.append(str(float(sor1)*float(i)))
                else:
                    resultList.append(None)
            return resultList
        else:
            return str(float(sor1)*float(sor2))

def Minus(sor1,sor2):
    if(type(sor1)==list):
        resultList = []
        if(type(sor2)==list):
            for i in range(len(sor1)):
                resultList.append(str(float(sor1[i])-float(sor2[i])))
        else:
            for i in range(len(sor1)):
                if(sor1[i]!=None):
                    resultList.append(str(float(sor1[i])-float(sor2)))
                else:
                    resultList.append(None)
        return resultList
    else:
        if(type(sor2)==list):
            resultList = []
            for i in sor2:
                if(i!=None):
                    resultList.append(str(float(sor1)-float(i)))
                else:
                    resultList.append(None)
            return resultList
        else:
            return str(float(sor1)-float(sor2))

def Add(sor1,sor2):
    if(type(sor1)==list):
        resultList = []
        if(type(sor2)==list):
            for i in range(len(sor1)):
                resultList.append(str(float(sor1[i])+float(sor2[i])))
        else:
            for i in range(len(sor1)):
                if(sor1[i]!=None):
                    resultList.append(str(float(sor1[i])+float(sor2)))
                else:
                    resultList.append(None)
        return resultList
    else:
        if(type(sor2)==list):
            resultList = []
            for i in sor2:
                if(i!=None):
                    resultList.append(str(float(sor1)+float(i)))
                else:
                    resultList.append(None)
            return resultList
        else:
            return str(float(sor1)+float(sor2))
        
def Less(sor1,sor2):
    if(type(sor1)==list):
        resultList = []
        if(type(sor2)==list):
            for i in range(len(sor1)):
                resultList.append(float(sor1[i])<float(sor2[i]))
        else:
            for i in range(len(sor1)):
                if(sor1[i]!=None):
                    resultList.append(float(sor1[i])<float(sor2))
                else:
                    resultList.append(None)
        return resultList
    else:
        if(type(sor2)==list):
            resultList = []
            for i in sor2:
                if(i!=None):
                    resultList.append(float(sor1)<float(i))
                else:
                    resultList.append(None)
            return resultList
        else:
            return float(sor1)<float(sor2)

def Larger(sor1,sor2):
    if(type(sor1)==list):
        resultList = []
        if(type(sor2)==list):
            for i in range(len(sor1)):
                resultList.append(float(sor1[i])>float(sor2[i]))
        else:
            for i in range(len(sor1)):
                if(sor1[i]!=None):
                    resultList.append(float(sor1[i])>float(sor2))
                else:
                    resultList.append(None)
        return resultList
    else:
        if(type(sor2)==list):
            resultList = []
            for i in sor2:
                if(i!=None):
                    resultList.append(float(sor1)>float(i))
                else:
                    resultList.append(None)
            return resultList
        else:
            return float(sor1)>float(sor2)

def Equal(sor1,sor2):
    if(type(sor1)==list):
        resultList = []
        if(type(sor2)==list):
            for i in range(len(sor1)):
                resultList.append(float(sor1[i])==float(sor2[i]))
        else:
            for i in range(len(sor1)):
                if(sor1[i]!=None):
                    resultList.append(float(sor1[i])==float(sor2))
                else:
                    resultList.append(None)
        return resultList
    else:
        if(type(sor2)==list):
            resultList = []
            for i in sor2:
                if(i!=None):
                    resultList.append(float(sor1)==float(i))
                else:
                    resultList.append(None)
            return resultList
        else:
            return float(sor1)==float(sor2)


def NotLarger(sor1,sor2):
    if(type(sor1)==list):
        resultList = []
        if(type(sor2)==list):
            for i in range(len(sor1)):
                resultList.append(float(sor1[i])<=float(sor2[i]))
        else:
            for i in range(len(sor1)):
                if(sor1[i]!=None):
                    resultList.append(float(sor1[i])<=float(sor2))
                else:
                    resultList.append(None)
        return resultList
    else:
        if(type(sor2)==list):
            resultList = []
            for i in sor2:
                if(i!=None):
                    resultList.append(float(sor1)<=float(i))
                else:
                    resultList.append(None)
            return resultList
        else:
            return float(sor1)<=float(sor2)

def NotLess(sor1,sor2):
    if(type(sor1)==list):
        resultList = []
        if(type(sor2)==list):
            for i in range(len(sor1)):
                resultList.append(float(sor1[i])>=float(sor2[i]))
        else:
            for i in range(len(sor1)):
                if(sor1[i]!=None):
                    resultList.append(float(sor1[i])>=float(sor2))
                else:
                    resultList.append(None)
        return resultList
    else:
        if(type(sor2)==list):
            resultList = []
            for i in sor2:
                if(i!=None):
                    resultList.append(float(sor1)>=float(i))
                else:
                    resultList.append(None)
            return resultList
        else:
            return float(sor1)>=float(sor2)

def NotEqual(sor1,sor2):
    if(type(sor1)==list):
        resultList = []
        if(type(sor2)==list):
            for i in range(len(sor1)):
                resultList.append(float(sor1[i])!=float(sor2[i]))
        else:
            for i in range(len(sor1)):
                if(sor1[i]!=None):
                    resultList.append(float(sor1[i])!=float(sor2))
                else:
                    resultList.append(None)
        return resultList
    else:
        if(type(sor2)==list):
            resultList = []
            for i in sor2:
                if(i!=None):
                    resultList.append(float(sor1)!=float(i))
                else:
                    resultList.append(None)
            return resultList
        else:
            return float(sor1)!=float(sor2)

class MyMachine():
    database = InputData()
    resultStack = Stack()
    ENVStack = Stack()
    unitaryOperatorDic = {"count":Count,"sum":Sum,"min":Min,"max":Max,"average":Average,"distinct":Distinct,"deref":Derefering,"not":Not}
    binaryOperatorDic = {"where":Where,"×":Descartes,"<":Less,">":Larger,"<=":NotLarger,">=":NotLess,"==":Equal,"neq":NotEqual,"+":Add,"-":Minus,"*":Times,"/":Divide,"and":And,"or":Or,"exists":Exists,"in":In,"contains":Contains}
    binaryKeyWord = ["where","×","<",">","<=",">=","==","neq","+","-","*","/","and","or","exists","in","contains"]
    unitaryKeyWord = ["count","sum","min","max","average","distinct","deref","not"]
    
    def ManageWithString(self,query):
        stringList = self.DealWithBracket(query,0)[0]
        self.ExecuteOperator(stringList)
        result = self.resultStack.pop()
        print(result)
        return 
    
    def ExecuteOperator(self,tarList):
        i = 0
        while(i<len(tarList)):
            item = tarList[i]
            if(type(item)==str):
                if(self.CheckKeyWord(item)[0]):
                    if(self.CheckKeyWord(item)[1]):
                        self.ExecuteOperator(tarList[i+1])
                        operand = self.resultStack.pop()
                        if(item!="deref"):
                            result = self.unitaryOperatorDic[item](operand)
                            self.resultStack.push(result)
                        else:
                            result = self.unitaryOperatorDic[item](operand,self.database.inputlist)
                            self.resultStack.push(result)

                        i +=2
                    else:
                        if(type(tarList[i+1])==str):
                            self.query(tarList[i+1])
                        else:
                            self.ExecuteOperator(tarList[i+1])
                        operand1 = self.resultStack.pop()
                        operand2 = self.resultStack.pop()
                        result = self.binaryOperatorDic[item](operand2,operand1)
                        self.resultStack.push(result)
                        i +=2
                else:
                    self.query(item)
                    i +=1
            else:
                self.ExecuteOperator(item)
                i+=1
        return 

    def CheckKeyWord(self,word):
        isFound = False
        isUnitary = False
        for i in self.binaryKeyWord:
            if(word==i):
                isFound = True
                break
        for i in self.unitaryKeyWord:
            if(word==i):
                isFound = True
                isUnitary = True
                break
        return (isFound,isUnitary)

    def DealWithBracket(self,string,index):
        stringList = []
        word = ""
        while(index<len(string) and string[index]!=")"):
            if(string[index]=="("):
                (tempList,tempIndex) = self.DealWithBracket(string,index+1)
                stringList.append(tempList)
                index=tempIndex
            elif(string[index]==" "):
                if(word!=''):
                    stringList.append(word)
                    word=""
            else:
                word += string[index]
            index +=1
        stringList.append(word)
        for i in stringList:
            if(i==''):
                stringList.remove(i)
        return (stringList,index)

    def query(self,string):
        try:
            a = int(string)
            self.resultStack.push(str(a))
        except:
            if('.' in string):
                sorList = self.resultStack.pop()
                self.resultStack.push(sorList)
                target = string.split('.')[1]
                resultList = []
                for base in sorList:
                    isFound = False
                    data = self.getData(base)[2]
                    for item in data:
                        if(item[1]==target):
                            resultList.append(item[2])
                            isFound = True
                    if(not isFound):
                        resultList.append(None)
                self.resultStack.push(resultList)
            else:
                if('_' in string):
                    a = string.split('_')
                    a.remove('')
                    self.resultStack.push(a)
                elif ('|' in string):
                    a = string.split('|')
                    a.remove('')
                    self.resultStack.push(a)
                else:
                    resultList = []
                    for base in self.database.inputlist:
                        if(base[1]==string):
                            resultList.append(base[0])
                    
                    self.resultStack.push(resultList)
            return
    
    def getData(self,index):
        for base in self.database.inputlist:
            if(base[0]==index):
                return base
        return
